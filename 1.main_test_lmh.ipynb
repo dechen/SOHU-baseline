{
 "cells": [
  {
   "cell_type": "code",
   "execution_count": 1,
   "metadata": {
    "collapsed": true
   },
   "outputs": [],
   "source": [
    "# -*- coding: utf-8 -*-\n",
    "import lightgbm as lgb\n",
    "import csv\n",
    "import pandas as pd\n",
    "import numpy as np\n",
    "import time\n",
    "import json\n",
    "from joblib import load, dump\n",
    "from tqdm import tqdm\n",
    "import re\n",
    "from utils.features_ents import feature_ents\n",
    "from utils.ner import ner"
   ]
  },
  {
   "cell_type": "code",
   "execution_count": 2,
   "metadata": {
    "scrolled": true
   },
   "outputs": [
    {
     "name": "stderr",
     "output_type": "stream",
     "text": [
      "0it [00:00, ?it/s]Building prefix dict from the default dictionary ...\n",
      "Loading model from cache /tmp/jieba.cache\n",
      "Loading model cost 1.387 seconds.\n",
      "Prefix dict has been built succesfully.\n",
      "9it [00:06,  1.61it/s]\n"
     ]
    },
    {
     "name": "stdout",
     "output_type": "stream",
     "text": [
      "done\n"
     ]
    }
   ],
   "source": [
    "class Test():\n",
    "    def __init__(self):\n",
    "        #测试文件\n",
    "        self.test_file = 'data/coreEntityEmotion_test_stage1.txt'\n",
    "        #训练好的模型地址\n",
    "        self.ents_model = load('models/model1.joblib')\n",
    "        \n",
    "    def test(self):\n",
    "        test_file = open(self.test_file)\n",
    "        process_num = \"1\"\n",
    "        res_file = open(\"./results/result_\"+str(process_num)+\".txt\",'w', newline='')\n",
    "        write = csv.writer(res_file)\n",
    "        fea_ents = feature_ents()\n",
    "        \n",
    "        count = 0\n",
    "        process_news = []\n",
    "        for news in tqdm(test_file):\n",
    "            count += 1\n",
    "            if count >= 10:   #测试能否跑通，测试完去掉\n",
    "                break\n",
    "            if count >= 0:\n",
    "                news = json.loads(news)\n",
    "                ent_fea = fea_ents.combine_features(news)\n",
    "                ents = []\n",
    "                emos = []\n",
    "                #预测实体\n",
    "                ent_predict_result = []\n",
    "                for fea in ent_fea:\n",
    "                    ent_score = self.ents_model.predict([fea[1]])\n",
    "                    ent_predict_result.append([fea[0][0],ent_score])\n",
    "\n",
    "                ent_predict_result.sort(key=lambda x: x[1], reverse = True)\n",
    "            \n",
    "                #选前三个实体\n",
    "                c = 0\n",
    "                for pred in ent_predict_result:\n",
    "                    if c == 3:\n",
    "                        break\n",
    "                    ents.append(pred[0])\n",
    "                    c += 1\n",
    "                    \n",
    "#                 情感预测 :)\n",
    "                for ent in ents:\n",
    "                    emos.append(\"POS\")\n",
    "\n",
    "#                 print('{}\\t{}\\t{}'.format(news['newsId'], ','.join(ents), ','.join(emos)))\n",
    "                row = ['{}\\t{}\\t{}'.format(news['newsId'], ','.join(ents), ','.join(emos))]\n",
    "                write.writerow(row)\n",
    "        print(\"done\")\n",
    "\n",
    "            \n",
    "if __name__ == '__main__':\n",
    "    test = Test()\n",
    "    test.test()"
   ]
  },
  {
   "cell_type": "code",
   "execution_count": null,
   "metadata": {
    "collapsed": true
   },
   "outputs": [],
   "source": []
  }
 ],
 "metadata": {
  "kernelspec": {
   "display_name": "Python 3",
   "language": "python",
   "name": "python3"
  },
  "language_info": {
   "codemirror_mode": {
    "name": "ipython",
    "version": 3
   },
   "file_extension": ".py",
   "mimetype": "text/x-python",
   "name": "python",
   "nbconvert_exporter": "python",
   "pygments_lexer": "ipython3",
   "version": "3.7.3"
  }
 },
 "nbformat": 4,
 "nbformat_minor": 2
}
